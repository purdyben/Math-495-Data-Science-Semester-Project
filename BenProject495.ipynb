{
 "cells": [
  {
   "cell_type": "code",
   "execution_count": 10,
   "metadata": {},
   "outputs": [],
   "source": [
    "import numpy as np\n",
    "import numpy.matlib\n",
    "import pandas as pd\n",
    "import matplotlib.pyplot as plt\n",
    "import seaborn as sns\n",
    "from sklearn import metrics\n",
    "from sklearn import preprocessing\n",
    "from sklearn.metrics import confusion_matrix\n",
    "from sklearn.model_selection import train_test_split\n",
    "from sklearn.tree import DecisionTreeClassifier\n",
    "from sklearn.preprocessing import StandardScaler "
   ]
  },
  {
   "cell_type": "code",
   "execution_count": 11,
   "metadata": {},
   "outputs": [],
   "source": [
    "game_data = pd.read_csv('games.csv')"
   ]
  },
  {
   "cell_type": "code",
   "execution_count": 53,
   "metadata": {},
   "outputs": [
    {
     "name": "stdout",
     "output_type": "stream",
     "text": [
      "Index(['id', 'rated', 'created_at', 'last_move_at', 'turns', 'victory_status',\n",
      "       'winner', 'increment_code', 'white_id', 'white_rating', 'black_id',\n",
      "       'black_rating', 'moves', 'opening_eco', 'opening_name', 'opening_ply',\n",
      "       'whosRatedHigher'],\n",
      "      dtype='object')\n"
     ]
    },
    {
     "data": {
      "text/html": [
       "<div>\n",
       "<style scoped>\n",
       "    .dataframe tbody tr th:only-of-type {\n",
       "        vertical-align: middle;\n",
       "    }\n",
       "\n",
       "    .dataframe tbody tr th {\n",
       "        vertical-align: top;\n",
       "    }\n",
       "\n",
       "    .dataframe thead th {\n",
       "        text-align: right;\n",
       "    }\n",
       "</style>\n",
       "<table border=\"1\" class=\"dataframe\">\n",
       "  <thead>\n",
       "    <tr style=\"text-align: right;\">\n",
       "      <th></th>\n",
       "      <th>id</th>\n",
       "      <th>rated</th>\n",
       "      <th>created_at</th>\n",
       "      <th>last_move_at</th>\n",
       "      <th>turns</th>\n",
       "      <th>victory_status</th>\n",
       "      <th>winner</th>\n",
       "      <th>increment_code</th>\n",
       "      <th>white_id</th>\n",
       "      <th>white_rating</th>\n",
       "      <th>black_id</th>\n",
       "      <th>black_rating</th>\n",
       "      <th>moves</th>\n",
       "      <th>opening_eco</th>\n",
       "      <th>opening_name</th>\n",
       "      <th>opening_ply</th>\n",
       "      <th>whosRatedHigher</th>\n",
       "    </tr>\n",
       "  </thead>\n",
       "  <tbody>\n",
       "    <tr>\n",
       "      <th>0</th>\n",
       "      <td>TZJHLljE</td>\n",
       "      <td>False</td>\n",
       "      <td>1.504210e+12</td>\n",
       "      <td>1.504210e+12</td>\n",
       "      <td>13</td>\n",
       "      <td>outoftime</td>\n",
       "      <td>white</td>\n",
       "      <td>15+2</td>\n",
       "      <td>bourgris</td>\n",
       "      <td>1500</td>\n",
       "      <td>a-00</td>\n",
       "      <td>1191</td>\n",
       "      <td>d4 d5 c4 c6 cxd5 e6 dxe6 fxe6 Nf3 Bb4+ Nc3 Ba5...</td>\n",
       "      <td>D10</td>\n",
       "      <td>Slav Defense: Exchange Variation</td>\n",
       "      <td>5</td>\n",
       "      <td>1</td>\n",
       "    </tr>\n",
       "  </tbody>\n",
       "</table>\n",
       "</div>"
      ],
      "text/plain": [
       "         id  rated    created_at  last_move_at  turns victory_status winner  \\\n",
       "0  TZJHLljE  False  1.504210e+12  1.504210e+12     13      outoftime  white   \n",
       "\n",
       "  increment_code  white_id  white_rating black_id  black_rating  \\\n",
       "0           15+2  bourgris          1500     a-00          1191   \n",
       "\n",
       "                                               moves opening_eco  \\\n",
       "0  d4 d5 c4 c6 cxd5 e6 dxe6 fxe6 Nf3 Bb4+ Nc3 Ba5...         D10   \n",
       "\n",
       "                       opening_name  opening_ply  whosRatedHigher  \n",
       "0  Slav Defense: Exchange Variation            5                1  "
      ]
     },
     "execution_count": 53,
     "metadata": {},
     "output_type": "execute_result"
    }
   ],
   "source": [
    "print(game_data.columns)\n",
    "game_data.head(1)"
   ]
  },
  {
   "cell_type": "code",
   "execution_count": 66,
   "metadata": {
    "scrolled": false
   },
   "outputs": [
    {
     "name": "stdout",
     "output_type": "stream",
     "text": [
      "0.3255060325057334 0.2903081064911756 0.38418586100309104\n",
      "White :  10184\n",
      "Black :  9874\n",
      "         id  rated    created_at  last_move_at  turns victory_status winner  \\\n",
      "0  TZJHLljE  False  1.504210e+12  1.504210e+12     13      outoftime  white   \n",
      "1  l1NXvwaE   True  1.504130e+12  1.504130e+12     16         resign  black   \n",
      "\n",
      "  increment_code  white_id  white_rating   black_id  black_rating  \\\n",
      "0           15+2  bourgris          1500       a-00          1191   \n",
      "1           5+10      a-00          1322  skinnerua          1261   \n",
      "\n",
      "                                               moves opening_eco  \\\n",
      "0  d4 d5 c4 c6 cxd5 e6 dxe6 fxe6 Nf3 Bb4+ Nc3 Ba5...         D10   \n",
      "1  d4 Nc6 e4 e5 f4 f6 dxe5 fxe5 fxe5 Nxe5 Qd4 Nc6...         B00   \n",
      "\n",
      "                             opening_name  opening_ply  whosRatedHigher  \n",
      "0        Slav Defense: Exchange Variation            5                1  \n",
      "1  Nimzowitsch Defense: Kennedy Variation            4                1  \n",
      "   white_id  black_id  rated  opening_name  whosRatedHigher  white_rating  \\\n",
      "0      1287        11      0          1387                1          1500   \n",
      "1        16      7748      1           750                1          1322   \n",
      "\n",
      "   black_rating  \n",
      "0          1191  \n",
      "1          1261  \n",
      "   winner\n",
      "0       2\n",
      "1       0\n"
     ]
    }
   ],
   "source": [
    "## reformate cell###\n",
    "# white_id\n",
    "# black_id\n",
    "# opening_name\n",
    "# victory_status\n",
    "# winner\n",
    "\n",
    "incoded_values = game_data[['white_id','black_id','rated','opening_name']]\n",
    "winners = game_data[['winner']]\n",
    "# print(winners.head(3))\n",
    "\n",
    "victory_status = game_data[['victory_status']]\n",
    "le = preprocessing.LabelEncoder()\n",
    "incoded_values = incoded_values.apply(le.fit_transform)\n",
    "winners = winners.apply(le.fit_transform)\n",
    "victory_status = victory_status.apply(le.fit_transform)\n",
    "\n",
    "\n",
    "# print(incoded_values.head(3))\n",
    "# print(winners.head(3))\n",
    "\n",
    "\n",
    "whiteWins = 0\n",
    "blackWins = 0\n",
    "third = 0\n",
    "\n",
    "white_rating = np.array(game_data['white_rating'])\n",
    "black_rating = np.array(game_data['black_rating'])\n",
    "win = np.array(winners)\n",
    "\n",
    "for index in range(len(winners)):\n",
    "    if win[index][0] == 0 and black_rating[index] > white_rating[index]:\n",
    "        blackWins+=1\n",
    "    elif win[index][0] == 2 and black_rating[index] < white_rating[index]:\n",
    "        whiteWins+=1\n",
    "    else:\n",
    "#         print(win[index][0],black_rating[index],white_rating[index])\n",
    "        third+=1\n",
    "print(whiteWins/len(winners),blackWins/len(winners),third/len(winners))\n",
    "    \n",
    "#whosHigherRated #\n",
    "def whosHigherRated(df):\n",
    "    l = []\n",
    "    numWhite = 0\n",
    "    numBlack = 0\n",
    "    white_rating = np.array(df['white_rating'])\n",
    "    black_rating = np.array(df['black_rating'])\n",
    "    for index in range(len(white_rating)):\n",
    "        if white_rating[index] > black_rating[index]:\n",
    "            l.append(1)\n",
    "            numWhite+=1\n",
    "        else:\n",
    "            numBlack+=1\n",
    "            l.append(0)\n",
    "    print(\"White : \",numWhite)\n",
    "    print(\"Black : \",numBlack)\n",
    "    return 1\n",
    "\n",
    "def classification(df):\n",
    "    df['whosRatedHigher'] = whosHigherRated(game_data)\n",
    "    \n",
    "    \n",
    "\n",
    "classification(incoded_values)\n",
    "\n",
    "incoded_values['white_rating'] = game_data['white_rating']\n",
    "incoded_values['black_rating'] = game_data['black_rating']\n",
    "print(game_data.head(2))\n",
    "print(incoded_values.head(2))\n",
    "\n",
    "# black 0 white 2 draw 1\n",
    "print(winners.head(2))"
   ]
  },
  {
   "cell_type": "code",
   "execution_count": 87,
   "metadata": {},
   "outputs": [
    {
     "data": {
      "text/plain": [
       "<bound method NDFrame.head of        white_id  black_id  rated  opening_name  whosRatedHigher  white_rating  \\\n",
       "0          1287        11      0          1387                1          1500   \n",
       "1            16      7748      1           750                1          1322   \n",
       "2          3823        11      1           650                1          1496   \n",
       "3          2017       134      1           992                1          1439   \n",
       "4          6056       134      1           783                1          1523   \n",
       "...         ...       ...    ...           ...              ...           ...   \n",
       "20053      1079      4046      1           191                1          1691   \n",
       "20054      3921      2855      1           960                1          1233   \n",
       "20055      3921      7464      1           977                1          1219   \n",
       "20056      5235      4046      1           806                1          1360   \n",
       "20057      3921      2935      1           977                1          1235   \n",
       "\n",
       "       black_rating  openingDrawPercentage  openingOutoftimePercentage  \\\n",
       "0              1191                   0.00                        0.21   \n",
       "1              1261                   0.00                        0.20   \n",
       "2              1500                   0.02                        0.43   \n",
       "3              1454                   0.06                        0.33   \n",
       "4              1469                   0.06                        0.36   \n",
       "...             ...                    ...                         ...   \n",
       "20053          1220                   0.06                        0.17   \n",
       "20054          1196                   0.03                        0.32   \n",
       "20055          1286                   0.05                        0.28   \n",
       "20056          1227                   0.11                        0.11   \n",
       "20057          1339                   0.05                        0.28   \n",
       "\n",
       "       openingMatePercentage  openingResignPercentage  percentageWhiteWon  \\\n",
       "0                       0.16                     0.63                0.37   \n",
       "1                       0.00                     0.80                0.60   \n",
       "2                       0.12                     0.43                0.44   \n",
       "3                       0.10                     0.51                0.55   \n",
       "4                       0.10                     0.48                0.62   \n",
       "...                      ...                      ...                 ...   \n",
       "20053                   0.17                     0.60                0.48   \n",
       "20054                   0.10                     0.55                0.66   \n",
       "20055                   0.06                     0.61                0.50   \n",
       "20056                   0.16                     0.62                0.26   \n",
       "20057                   0.06                     0.61                0.50   \n",
       "\n",
       "       percentageBlakeWon  percentageGamedraw  \n",
       "0                    0.63                0.00  \n",
       "1                    0.40                0.00  \n",
       "2                    0.54                0.03  \n",
       "3                    0.39                0.06  \n",
       "4                    0.31                0.07  \n",
       "...                   ...                 ...  \n",
       "20053                0.46                0.06  \n",
       "20054                0.30                0.04  \n",
       "20055                0.44                0.06  \n",
       "20056                0.62                0.11  \n",
       "20057                0.44                0.06  \n",
       "\n",
       "[20058 rows x 14 columns]>"
      ]
     },
     "execution_count": 87,
     "metadata": {},
     "output_type": "execute_result"
    }
   ],
   "source": [
    "# this cell crates the likely hood each each opening is won by mate,resign,draw,outoftime \n",
    "# and who wins the openeing white black or draw\n",
    "# now since this type of data is related to all other data points when spliting this will cause an issue \n",
    "# but since theses percentages will be the same for all data points who have such a opening \n",
    "# we will continue since with a large amount of data this problem wouldnt be a big issue since each set of \n",
    "# data would have about the save persetage \n",
    "\n",
    "\n",
    "# draw = 0, outoftime = 2, mate = 1 resign = 3, white won = 4, black won = 5, draw = 6\n",
    "def checkClassificationOfOpenings(df,v_status,winners): \n",
    "    dict = {}\n",
    "    openings = df['opening_name']\n",
    "    v_status = v_status['victory_status']\n",
    "    for index in range(len(openings)):\n",
    "#         print(game_data['victory_status'][index],v_status[index])\n",
    "#         print(game_data['winner'][index], winners['winner'][index])\n",
    "        if openings[index] not in dict.keys():\n",
    "            dict[openings[index]] = [0,0,0,0,0,0,0]\n",
    "            dict[openings[index]][v_status[index]]+=1\n",
    "        else:\n",
    "            dict[openings[index]][v_status[index]]+=1\n",
    "        \n",
    "        # black 0 white 2 draw 1\n",
    "        if winners['winner'][index] == 0:\n",
    "            dict[openings[index]][5]+=1\n",
    "        elif winners['winner'][index] == 2: \n",
    "            dict[openings[index]][4]+=1\n",
    "        else:\n",
    "            dict[openings[index]][6]+=1 \n",
    "    return dict \n",
    "\n",
    "dict = checkClassificationOfOpenings(incoded_values,victory_status,winners)\n",
    "\n",
    "def checkPersentages(df,dict):\n",
    "    openings = df['opening_name']\n",
    "    for index in range(len(openings)):\n",
    "        l = dict[openings[index]] \n",
    "        Lsum = l[0]+l[1]+l[2]+l[3]\n",
    "        rounded = [round(num, 2) for num in [l[0]/Lsum,l[1]/Lsum,l[2]/Lsum,l[3]/Lsum, l[4]/Lsum,l[5]/Lsum,l[6]/Lsum]]\n",
    "        dict[openings[index]] = rounded\n",
    "#         print(rounded)\n",
    "           \n",
    "checkPersentages(incoded_values,dict)\n",
    "\n",
    "# draw = 0, outoftime = 2, mate = 1 resign = 3, white won = 4, black won = 5, draw = 6\n",
    "def createColumns(df, openings, dict):\n",
    "    openingDrawPercentage = []\n",
    "    openingOutoftimePercentage  = []\n",
    "    openingMatePercentage  = []\n",
    "    openingResignPercentage  = []\n",
    "    percentageWhiteWon = []\n",
    "    percentageBlakeWon = []\n",
    "    percentageGamedraw = []\n",
    "    for index in range(len(openings)):\n",
    "        l = dict[openings[index]]\n",
    "        openingDrawPercentage.append(l[0])\n",
    "        openingOutoftimePercentage.append(l[1])\n",
    "        openingMatePercentage.append(l[2])\n",
    "        openingResignPercentage.append(l[3])\n",
    "        percentageWhiteWon.append(l[4])\n",
    "        percentageBlakeWon.append(l[5])\n",
    "        percentageGamedraw.append(l[6])\n",
    "    df['openingDrawPercentage'] = openingDrawPercentage\n",
    "    df['openingOutoftimePercentage'] = openingOutoftimePercentage\n",
    "    df['openingMatePercentage'] = openingMatePercentage\n",
    "    df['openingResignPercentage'] = openingResignPercentage\n",
    "    df['percentageWhiteWon'] = percentageWhiteWon\n",
    "    df['percentageBlakeWon'] = percentageBlakeWon\n",
    "    df['percentageGamedraw'] = percentageGamedraw\n",
    "createColumns(incoded_values,incoded_values['opening_name'] , dict)\n",
    "incoded_values.head"
   ]
  },
  {
   "cell_type": "code",
   "execution_count": null,
   "metadata": {},
   "outputs": [],
   "source": []
  },
  {
   "cell_type": "code",
   "execution_count": 90,
   "metadata": {},
   "outputs": [
    {
     "name": "stdout",
     "output_type": "stream",
     "text": [
      "Accuracy: 0.5905616483881688\n",
      "confusion_matrix\n",
      "[[1652  113  992]\n",
      " [  98   48  122]\n",
      " [1002  137 1854]]\n"
     ]
    }
   ],
   "source": [
    "## model cell ###\n",
    "\n",
    "x_train, x_test, y_train, y_test = train_test_split(incoded_values, winners, test_size=0.30, random_state = 0)  \n",
    "# initializes and runs the decision tree\n",
    "cart = DecisionTreeClassifier()\n",
    "cart.fit(x_train, y_train)\n",
    "\n",
    "y_pred = cart.predict(x_test)\n",
    "print(\"Accuracy:\",metrics.accuracy_score(y_test, y_pred))\n",
    "print(\"confusion_matrix\")\n",
    "print(confusion_matrix(y_test, y_pred))"
   ]
  },
  {
   "cell_type": "code",
   "execution_count": 56,
   "metadata": {},
   "outputs": [],
   "source": [
    "# y_pred = cart.predict(incoded_values)\n",
    "# incoded_values['victory_status'] = y_pred\n",
    "# print(y_pred)"
   ]
  },
  {
   "cell_type": "code",
   "execution_count": 89,
   "metadata": {},
   "outputs": [
    {
     "name": "stdout",
     "output_type": "stream",
     "text": [
      "Accuracy: 0.5897308075772681\n"
     ]
    },
    {
     "name": "stderr",
     "output_type": "stream",
     "text": [
      "/usr/local/lib/python3.8/site-packages/sklearn/utils/validation.py:72: DataConversionWarning: A column-vector y was passed when a 1d array was expected. Please change the shape of y to (n_samples, ), for example using ravel().\n",
      "  return f(**kwargs)\n"
     ]
    },
    {
     "name": "stdout",
     "output_type": "stream",
     "text": [
      "Accuracy: 0.3876703223662346\n"
     ]
    },
    {
     "name": "stderr",
     "output_type": "stream",
     "text": [
      "<ipython-input-89-a7ae227e3c3c>:25: DataConversionWarning: A column-vector y was passed when a 1d array was expected. Please change the shape of y to (n_samples,), for example using ravel().\n",
      "  wcart.fit(x_train, y_train)\n"
     ]
    },
    {
     "name": "stdout",
     "output_type": "stream",
     "text": [
      "Accuracy: 0.6495513459621136\n"
     ]
    },
    {
     "name": "stderr",
     "output_type": "stream",
     "text": [
      "/usr/local/lib/python3.8/site-packages/sklearn/utils/validation.py:72: DataConversionWarning: A column-vector y was passed when a 1d array was expected. Please change the shape of y to (n_samples, ), for example using ravel().\n",
      "  return f(**kwargs)\n"
     ]
    },
    {
     "name": "stdout",
     "output_type": "stream",
     "text": [
      "Accuracy: 0.6462279827185111\n"
     ]
    }
   ],
   "source": [
    "from sklearn.neural_network import MLPClassifier\n",
    "from sklearn.ensemble import RandomForestClassifier, AdaBoostClassifier\n",
    "\n",
    "x_train, x_test, y_train, y_test = train_test_split(incoded_values, winners, test_size=0.30, random_state = 0)  \n",
    "# initializes and runs the decision tree\n",
    "wcart = DecisionTreeClassifier()\n",
    "wcart.fit(x_train, y_train)\n",
    "\n",
    "y_pred = wcart.predict(x_test)\n",
    "print(\"Accuracy:\",metrics.accuracy_score(y_test, y_pred))\n",
    "# print(\"confusion_matrix\")\n",
    "# print(confusion_matrix(y_test, y_pred))\n",
    "\n",
    "x_train, x_test, y_train, y_test = train_test_split(incoded_values, winners, test_size=0.30, random_state = 0)  \n",
    "# initializes and runs the decision tree\n",
    "wcart = MLPClassifier()\n",
    "wcart.fit(x_train, y_train)\n",
    "\n",
    "y_pred = wcart.predict(x_test)\n",
    "print(\"Accuracy:\",metrics.accuracy_score(y_test, y_pred))\n",
    "\n",
    "x_train, x_test, y_train, y_test = train_test_split(incoded_values, winners, test_size=0.30, random_state = 0)  \n",
    "# initializes and runs the decision tree\n",
    "wcart = RandomForestClassifier()\n",
    "wcart.fit(x_train, y_train)\n",
    "\n",
    "y_pred = wcart.predict(x_test)\n",
    "print(\"Accuracy:\",metrics.accuracy_score(y_test, y_pred))\n",
    "\n",
    "x_train, x_test, y_train, y_test = train_test_split(incoded_values, winners, test_size=0.30, random_state = 0)  \n",
    "# initializes and runs the decision tree\n",
    "wcart = AdaBoostClassifier()\n",
    "wcart.fit(x_train, y_train)\n",
    "\n",
    "y_pred = wcart.predict(x_test)\n",
    "print(\"Accuracy:\",metrics.accuracy_score(y_test, y_pred))\n"
   ]
  },
  {
   "cell_type": "code",
   "execution_count": 22,
   "metadata": {},
   "outputs": [
    {
     "data": {
      "image/png": "[encoded data removed]",
      "text/plain": [
       "<Figure size 432x288 with 1 Axes>"
      ]
     },
     "metadata": {},
     "output_type": "display_data"
    }
   ],
   "source": [
    "from sklearn.cluster import KMeans\n",
    "import seaborn as sns; sns.set()  # for plot styling\n",
    "x= game_data[['white_rating','black_rating']]\n",
    "\n",
    "\n",
    "kmeans = KMeans(n_clusters=4)\n",
    "kmeans.fit(x)\n",
    "y_kmeans = kmeans.predict(x)\n",
    "x=np.array(x)\n",
    "plt.scatter(x[:, 0], x[:, 1], c=y_kmeans, s=50, cmap='viridis')\n",
    "centers = kmeans.cluster_centers_\n",
    "plt.scatter(centers[:, 0], centers[:, 1], cmap='viridis', s=200, alpha=0.5);"
   ]
  },
  {
   "cell_type": "code",
   "execution_count": null,
   "metadata": {},
   "outputs": [],
   "source": []
  }
 ],
 "metadata": {
  "kernelspec": {
   "display_name": "Python 3",
   "language": "python",
   "name": "python3"
  },
  "language_info": {
   "codemirror_mode": {
    "name": "ipython",
    "version": 3
   },
   "file_extension": ".py",
   "mimetype": "text/x-python",
   "name": "python",
   "nbconvert_exporter": "python",
   "pygments_lexer": "ipython3",
   "version": "3.8.5"
  }
 },
 "nbformat": 4,
 "nbformat_minor": 4
}
